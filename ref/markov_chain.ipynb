{
 "cells": [
  {
   "cell_type": "code",
   "execution_count": 1,
   "metadata": {},
   "outputs": [
    {
     "name": "stdout",
     "output_type": "stream",
     "text": [
      "Transition Probability Matrix (TPM):\n",
      "[[0.7 0.3]\n",
      " [0.6 0.4]]\n",
      "\n",
      "State vector on Tuesday given Rainy on Monday:\n",
      "[0.6 0.4]\n",
      "\n",
      "Probability of being rainy on Tuesday given Rainy on Monday: 0.4\n",
      "\n",
      "State vector on Wednesday given Rainy on Monday:\n",
      "[0.66 0.34]\n",
      "\n",
      "Probability of being rainy on Wednesday given Rainy on Monday: 0.34\n"
     ]
    }
   ],
   "source": [
    "import numpy as np\n",
    "\n",
    "# Define the transition probability matrix\n",
    "P = np.array([[0.7, 0.3],\n",
    "              [0.6, 0.4]])\n",
    "\n",
    "# Initial state vector (Rainy on Monday)\n",
    "initial_state = np.array([0, 1])\n",
    "\n",
    "# Calculate the state vector after 1 transition (Tuesday)\n",
    "state_after_1_day = np.dot(initial_state, P)\n",
    "\n",
    "# Print the transition probability matrix\n",
    "print(\"Transition Probability Matrix (TPM):\")\n",
    "print(P)\n",
    "\n",
    "# Print the state vector after 1 day (Tuesday)\n",
    "print(\"\\nState vector on Tuesday given Rainy on Monday:\")\n",
    "print(state_after_1_day)\n",
    "\n",
    "# Probability of being rainy on Tuesday\n",
    "prob_rainy_tuesday = state_after_1_day[1]\n",
    "print(\"\\nProbability of being rainy on Tuesday given Rainy on Monday:\", prob_rainy_tuesday)\n",
    "\n",
    "# Calculate the state vector after 2 transitions (Wednesday)\n",
    "state_after_2_days = np.dot(initial_state, np.linalg.matrix_power(P,2))\n",
    "\n",
    "\n",
    "# Print the state vector after 2 days\n",
    "print(\"\\nState vector on Wednesday given Rainy on Monday:\")\n",
    "print(state_after_2_days)\n",
    "\n",
    "# Probability of being rainy on Wednesday\n",
    "prob_rainy_wednesday = state_after_2_days[1]\n",
    "print(\"\\nProbability of being rainy on Wednesday given Rainy on Monday:\", prob_rainy_wednesday)"
   ]
  }
 ],
 "metadata": {
  "kernelspec": {
   "display_name": "Python 3",
   "language": "python",
   "name": "python3"
  },
  "language_info": {
   "codemirror_mode": {
    "name": "ipython",
    "version": 3
   },
   "file_extension": ".py",
   "mimetype": "text/x-python",
   "name": "python",
   "nbconvert_exporter": "python",
   "pygments_lexer": "ipython3",
   "version": "3.11.3"
  }
 },
 "nbformat": 4,
 "nbformat_minor": 2
}
