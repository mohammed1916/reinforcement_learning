{
  "nbformat": 4,
  "nbformat_minor": 0,
  "metadata": {
    "colab": {
      "provenance": []
    },
    "kernelspec": {
      "name": "python3",
      "display_name": "Python 3"
    },
    "language_info": {
      "name": "python"
    }
  },
  "cells": [
    {
      "cell_type": "code",
      "execution_count": null,
      "metadata": {
        "id": "03KjIuwh1WUa"
      },
      "outputs": [],
      "source": [
        "import numpy as np"
      ]
    },
    {
      "cell_type": "code",
      "source": [
        "P = np.array([[0.2,0.8],[0.6,0.4]])\n",
        "print(\"Transition matrix:\\n\",P)"
      ],
      "metadata": {
        "colab": {
          "base_uri": "https://localhost:8080/"
        },
        "id": "Cbn5veiO2ERf",
        "outputId": "beb94c7b-554e-4795-f81d-ce1cbdb080b6"
      },
      "execution_count": null,
      "outputs": [
        {
          "output_type": "stream",
          "name": "stdout",
          "text": [
            "Transition matrix:\n",
            " [[0.2 0.8]\n",
            " [0.6 0.4]]\n"
          ]
        }
      ]
    },
    {
      "cell_type": "code",
      "source": [
        "S = np.array([0.6,0.4])"
      ],
      "metadata": {
        "id": "2QxwpDYU2b9P"
      },
      "execution_count": null,
      "outputs": []
    },
    {
      "cell_type": "code",
      "source": [
        "for i in range(10):\n",
        "    S = np.dot(S,P)\n",
        "    print(\"\\nIteration {0}. Probability vector S = {1}\". format(i,S))\n",
        "\n",
        "print(\"\\nFinal probability vector = \",S)"
      ],
      "metadata": {
        "colab": {
          "base_uri": "https://localhost:8080/"
        },
        "id": "GCS9DnS42qJ6",
        "outputId": "1b779dc2-5ca4-4620-fc70-6e2f74e7da59"
      },
      "execution_count": null,
      "outputs": [
        {
          "output_type": "stream",
          "name": "stdout",
          "text": [
            "\n",
            "Iteration 0. Probability vector S = [0.36 0.64]\n",
            "\n",
            "Iteration 1. Probability vector S = [0.456 0.544]\n",
            "\n",
            "Iteration 2. Probability vector S = [0.4176 0.5824]\n",
            "\n",
            "Iteration 3. Probability vector S = [0.43296 0.56704]\n",
            "\n",
            "Iteration 4. Probability vector S = [0.426816 0.573184]\n",
            "\n",
            "Iteration 5. Probability vector S = [0.4292736 0.5707264]\n",
            "\n",
            "Iteration 6. Probability vector S = [0.42829056 0.57170944]\n",
            "\n",
            "Iteration 7. Probability vector S = [0.42868378 0.57131622]\n",
            "\n",
            "Iteration 8. Probability vector S = [0.42852649 0.57147351]\n",
            "\n",
            "Iteration 9. Probability vector S = [0.4285894 0.5714106]\n",
            "\n",
            "Final probability vector =  [0.4285894 0.5714106]\n"
          ]
        }
      ]
    },
    {
      "cell_type": "markdown",
      "source": [
        "Problem 2\n"
      ],
      "metadata": {
        "id": "D7jULmGi561U"
      }
    },
    {
      "cell_type": "code",
      "source": [
        "from sympy import symbols, Eq, solve"
      ],
      "metadata": {
        "id": "0E3z4tzu_JOH"
      },
      "execution_count": null,
      "outputs": []
    },
    {
      "cell_type": "code",
      "source": [
        "T = np.array\n",
        " ([[0.3,0.2,0.5],[0.4,0,0],[0.1,0,0.9]])\n",
        "print(\"Transition matrix:\\n\",T)"
      ],
      "metadata": {
        "colab": {
          "base_uri": "https://localhost:8080/"
        },
        "id": "B_3SjTnd59tM",
        "outputId": "978fdfc7-6c96-472c-ec3d-7a7ff5cf931c"
      },
      "execution_count": null,
      "outputs": [
        {
          "output_type": "stream",
          "name": "stdout",
          "text": [
            "Transition matrix:\n",
            " [[0.3 0.2 0.5]\n",
            " [0.4 0.  0. ]\n",
            " [0.1 0.  0.9]]\n"
          ]
        }
      ]
    },
    {
      "cell_type": "code",
      "source": [
        "R = np.array([[-3,-2,0,0],[-2,0,0,10],[-3,0,0,0],[0,0,0,0]])\n",
        "print(\"Reward matrix:\\n\",R)"
      ],
      "metadata": {
        "colab": {
          "base_uri": "https://localhost:8080/"
        },
        "id": "C4QSDFmf7t_0",
        "outputId": "bb105a13-5eb7-4577-a2f5-482382afdf68"
      },
      "execution_count": null,
      "outputs": [
        {
          "output_type": "stream",
          "name": "stdout",
          "text": [
            "Reward matrix:\n",
            " [[-3 -2  0  0]\n",
            " [-2  0  0 10]\n",
            " [-3  0  0  0]\n",
            " [ 0  0  0  0]]\n"
          ]
        }
      ]
    },
    {
      "cell_type": "code",
      "source": [
        "x,y,z = symbols(\"x,y,z\")"
      ],
      "metadata": {
        "id": "MasrXb7s8O0o"
      },
      "execution_count": null,
      "outputs": []
    },
    {
      "cell_type": "code",
      "source": [
        "initial_state = np.array([x,y,z])"
      ],
      "metadata": {
        "id": "URs4rMBq-v2u"
      },
      "execution_count": null,
      "outputs": []
    },
    {
      "cell_type": "code",
      "source": [
        "initial_equation = np.dot(initial_state,T)\n",
        "print(initial_equation)"
      ],
      "metadata": {
        "colab": {
          "base_uri": "https://localhost:8080/"
        },
        "id": "MMNUuFyr_7oV",
        "outputId": "03c4c59a-6909-46bb-c33a-1ca0955efa52"
      },
      "execution_count": null,
      "outputs": [
        {
          "output_type": "stream",
          "name": "stdout",
          "text": [
            "[0.3*x + 0.4*y + 0.1*z 0.2*x 0.5*x + 0.9*z]\n"
          ]
        }
      ]
    },
    {
      "cell_type": "code",
      "source": [
        "initial_equation[1]"
      ],
      "metadata": {
        "colab": {
          "base_uri": "https://localhost:8080/",
          "height": 39
        },
        "id": "oUFMBXXzFL9U",
        "outputId": "f84b2c34-1c49-4125-8a28-c3c950b55f3a"
      },
      "execution_count": null,
      "outputs": [
        {
          "output_type": "execute_result",
          "data": {
            "text/plain": [
              "0.2*x"
            ],
            "text/latex": "$\\displaystyle 0.2 x$"
          },
          "metadata": {},
          "execution_count": 44
        }
      ]
    },
    {
      "cell_type": "code",
      "source": [
        "eq1 = Eq(initial_equation[0], x)\n",
        "eq1"
      ],
      "metadata": {
        "colab": {
          "base_uri": "https://localhost:8080/",
          "height": 39
        },
        "id": "1KZ2XeLDFo2n",
        "outputId": "89af682b-7f98-42cf-d526-9490ff2a5e5d"
      },
      "execution_count": null,
      "outputs": [
        {
          "output_type": "execute_result",
          "data": {
            "text/plain": [
              "Eq(0.3*x + 0.4*y + 0.1*z, x)"
            ],
            "text/latex": "$\\displaystyle 0.3 x + 0.4 y + 0.1 z = x$"
          },
          "metadata": {},
          "execution_count": 45
        }
      ]
    },
    {
      "cell_type": "code",
      "source": [
        "eq2 = Eq(initial_equation[1], y)\n",
        "eq2"
      ],
      "metadata": {
        "colab": {
          "base_uri": "https://localhost:8080/",
          "height": 39
        },
        "id": "Af4S_oFGFo84",
        "outputId": "ecadda8b-ef33-41e7-bf76-a5412ec10569"
      },
      "execution_count": null,
      "outputs": [
        {
          "output_type": "execute_result",
          "data": {
            "text/plain": [
              "Eq(0.2*x, y)"
            ],
            "text/latex": "$\\displaystyle 0.2 x = y$"
          },
          "metadata": {},
          "execution_count": 46
        }
      ]
    },
    {
      "cell_type": "code",
      "source": [
        "eq3 = Eq(initial_equation[2], z)\n",
        "eq3"
      ],
      "metadata": {
        "colab": {
          "base_uri": "https://localhost:8080/",
          "height": 39
        },
        "id": "GOcVbewbFpDK",
        "outputId": "d23f79c2-723a-449e-9d28-5233f6a1c748"
      },
      "execution_count": null,
      "outputs": [
        {
          "output_type": "execute_result",
          "data": {
            "text/plain": [
              "Eq(0.5*x + 0.9*z, z)"
            ],
            "text/latex": "$\\displaystyle 0.5 x + 0.9 z = z$"
          },
          "metadata": {},
          "execution_count": 47
        }
      ]
    },
    {
      "cell_type": "code",
      "source": [
        "eq4 = Eq((x+y+z), 1)\n",
        "eq4"
      ],
      "metadata": {
        "colab": {
          "base_uri": "https://localhost:8080/",
          "height": 39
        },
        "id": "zc_DfINDHNqy",
        "outputId": "a9873add-2eec-482d-bcd9-f7fe3564c74f"
      },
      "execution_count": null,
      "outputs": [
        {
          "output_type": "execute_result",
          "data": {
            "text/plain": [
              "Eq(x + y + z, 1)"
            ],
            "text/latex": "$\\displaystyle x + y + z = 1$"
          },
          "metadata": {},
          "execution_count": 63
        }
      ]
    },
    {
      "cell_type": "code",
      "source": [
        "solutions = solve([eq1, eq2, eq3, eq4], (x, y, z, 1))\n",
        "solutions"
      ],
      "metadata": {
        "colab": {
          "base_uri": "https://localhost:8080/"
        },
        "id": "NqJVU2XqCHMP",
        "outputId": "487fa615-be60-45e8-eedd-bb16b5d29de0"
      },
      "execution_count": null,
      "outputs": [
        {
          "output_type": "execute_result",
          "data": {
            "text/plain": [
              "[(0.330515864914088,\n",
              "  -0.361031729828177,\n",
              "  -0.152579324570442,\n",
              "  -0.183095189484530),\n",
              " (0.0, 0.0, 0.0, 0.0),\n",
              " (0.800000000000000, 0.400000000000000, -0.800000000000000, 0.400000000000000),\n",
              " (0.136150801752578, 0.0276983964948434, 0.819245991237108, 0.983095189484530)]"
            ]
          },
          "metadata": {},
          "execution_count": 53
        }
      ]
    },
    {
      "cell_type": "code",
      "source": [
        "print(\"solutions\", [solutions[i][:3] for i in range(len(solutions))])"
      ],
      "metadata": {
        "colab": {
          "base_uri": "https://localhost:8080/"
        },
        "id": "Ppewi4qol6xt",
        "outputId": "3eedec48-b9b1-41c2-d6d2-43dcf1734c1c"
      },
      "execution_count": null,
      "outputs": [
        {
          "output_type": "stream",
          "name": "stdout",
          "text": [
            "solutions [(0.330515864914088, -0.361031729828177, -0.152579324570442), (0.0, 0.0, 0.0), (0.800000000000000, 0.400000000000000, -0.800000000000000), (0.136150801752578, 0.0276983964948434, 0.819245991237108)]\n"
          ]
        }
      ]
    },
    {
      "cell_type": "code",
      "source": [
        "print(\"solutions\", [solutions[0][:3]])"
      ],
      "metadata": {
        "colab": {
          "base_uri": "https://localhost:8080/"
        },
        "id": "ejEyonhImyuK",
        "outputId": "af00f903-5f4a-40f0-9482-1aa1950e4a5b"
      },
      "execution_count": null,
      "outputs": [
        {
          "output_type": "stream",
          "name": "stdout",
          "text": [
            "solutions [(0.330515864914088, -0.361031729828177, -0.152579324570442)]\n"
          ]
        }
      ]
    },
    {
      "cell_type": "code",
      "source": [
        "print(\"solutions\", [solutions[1][:3]])"
      ],
      "metadata": {
        "id": "fqHVjbBdnURn",
        "outputId": "5785e6c5-1ad0-4255-b8a8-7e54b69674bb",
        "colab": {
          "base_uri": "https://localhost:8080/"
        }
      },
      "execution_count": null,
      "outputs": [
        {
          "output_type": "stream",
          "name": "stdout",
          "text": [
            "solutions [(0.0, 0.0, 0.0)]\n"
          ]
        }
      ]
    },
    {
      "cell_type": "code",
      "source": [
        "print(\"solutions\", [solutions[2][:3]])"
      ],
      "metadata": {
        "id": "5WzJ3QLNnXN7",
        "outputId": "b9fbd0b0-e3d2-48b1-c085-722b8f1c5d4b",
        "colab": {
          "base_uri": "https://localhost:8080/"
        }
      },
      "execution_count": null,
      "outputs": [
        {
          "output_type": "stream",
          "name": "stdout",
          "text": [
            "solutions [(0.800000000000000, 0.400000000000000, -0.800000000000000)]\n"
          ]
        }
      ]
    },
    {
      "cell_type": "code",
      "source": [],
      "metadata": {
        "id": "s2Eth_X_nYnF"
      },
      "execution_count": null,
      "outputs": []
    }
  ]
}